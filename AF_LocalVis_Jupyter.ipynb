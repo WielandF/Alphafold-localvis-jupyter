{
  "cells": [
    {
      "cell_type": "markdown",
      "metadata": {
        "id": "view-in-github",
        "colab_type": "text"
      },
      "source": [
        "<a href=\"https://colab.research.google.com/github/WielandF/Alphafold-localvis-jupyter/blob/main/AF_LocalVis_Jupyter.ipynb\" target=\"_parent\"><img src=\"https://colab.research.google.com/assets/colab-badge.svg\" alt=\"Open In Colab\"/></a>"
      ]
    },
    {
      "cell_type": "code",
      "source": [
        "#@title Install third-party software - <font color='red'>Do not use  this is still in development</font>\n",
        "\n",
        "#@markdown Please execute this cell by pressing the _Play_ button \n",
        "#@markdown on the left to download and import third-party software \n",
        "#@markdown in this notebook. \n",
        "\n",
        "\n",
        "from IPython.utils import io\n",
        "import os\n",
        "import subprocess\n",
        "import tqdm.notebook\n",
        "\n",
        "TQDM_BAR_FORMAT = '{l_bar}{bar}| {n_fmt}/{total_fmt} [elapsed: {elapsed} remaining: {remaining}]'\n",
        "\n",
        "try:\n",
        "  with tqdm.notebook.tqdm(total=100, bar_format=TQDM_BAR_FORMAT) as pbar:\n",
        "    with io.capture_output() as captured:\n",
        "      # Uninstall default Colab version of TF.\n",
        "      %shell pip uninstall -y tensorflow\n",
        "\n",
        "      %shell sudo apt install --quiet --yes hmmer\n",
        "      pbar.update(6)\n",
        "\n",
        "      # Install py3dmol.\n",
        "      %shell pip install py3dmol\n",
        "      pbar.update(2)\n",
        "\n",
        "      # Install OpenMM and pdbfixer.\n",
        "      %shell rm -rf /opt/conda\n",
        "      %shell wget -q -P /tmp \\\n",
        "        https://repo.anaconda.com/miniconda/Miniconda3-latest-Linux-x86_64.sh \\\n",
        "          && bash /tmp/Miniconda3-latest-Linux-x86_64.sh -b -p /opt/conda \\\n",
        "          && rm /tmp/Miniconda3-latest-Linux-x86_64.sh\n",
        "      pbar.update(9)\n",
        "\n",
        "      PATH=%env PATH\n",
        "      %env PATH=/opt/conda/bin:{PATH}\n",
        "      %shell conda update -qy conda \\\n",
        "          && conda install -qy -c conda-forge \\\n",
        "            python=3.7 \\\n",
        "            openmm=7.5.1 \\\n",
        "            pdbfixer\n",
        "      pbar.update(80)\n",
        "\n",
        "      # Create a ramdisk to store a database chunk to make Jackhmmer run fast.\n",
        "      %shell sudo mkdir -m 777 --parents /tmp/ramdisk\n",
        "      %shell sudo mount -t tmpfs -o size=9G ramdisk /tmp/ramdisk\n",
        "      pbar.update(2)\n",
        "\n",
        "      %shell wget -q -P /content \\\n",
        "        https://git.scicore.unibas.ch/schwede/openstructure/-/raw/7102c63615b64735c4941278d92b554ec94415f8/modules/mol/alg/src/stereo_chemical_props.txt\n",
        "      pbar.update(1)\n",
        "except subprocess.CalledProcessError:\n",
        "  print(captured)\n",
        "  raise"
      ],
      "metadata": {
        "cellView": "form",
        "id": "8RO6xvt9wYQg"
      },
      "id": "8RO6xvt9wYQg",
      "execution_count": null,
      "outputs": []
    },
    {
      "cell_type": "code",
      "source": [
        "#@title Download AlphaFold -  <font color='red'>Do not use  this is still in development</font>\n",
        "\n",
        "#@markdown Please execute this cell by pressing the *Play* button on \n",
        "#@markdown the left.\n",
        "\n",
        "GIT_REPO = 'https://github.com/deepmind/alphafold'\n",
        "\n",
        "SOURCE_URL = 'https://storage.googleapis.com/alphafold/alphafold_params_colab_2021-10-27.tar'\n",
        "PARAMS_DIR = './alphafold/data/params'\n",
        "PARAMS_PATH = os.path.join(PARAMS_DIR, os.path.basename(SOURCE_URL))\n",
        "\n",
        "try:\n",
        "  with tqdm.notebook.tqdm(total=100, bar_format=TQDM_BAR_FORMAT) as pbar:\n",
        "    with io.capture_output() as captured:\n",
        "      %shell rm -rf alphafold\n",
        "      %shell git clone --branch main {GIT_REPO} alphafold\n",
        "      pbar.update(8)\n",
        "      # Install the required versions of all dependencies.\n",
        "      %shell pip3 install -r ./alphafold/requirements.txt\n",
        "      # Run setup.py to install only AlphaFold.\n",
        "      %shell pip3 install --no-dependencies ./alphafold\n",
        "      pbar.update(10)\n",
        "\n",
        "      # Apply OpenMM patch.\n",
        "      %shell pushd /opt/conda/lib/python3.7/site-packages/ && \\\n",
        "          patch -p0 < /content/alphafold/docker/openmm.patch && \\\n",
        "          popd\n",
        "\n",
        "      # Make sure stereo_chemical_props.txt is in all locations where it could be searched for.\n",
        "      %shell mkdir -p /content/alphafold/alphafold/common\n",
        "      %shell cp -f /content/stereo_chemical_props.txt /content/alphafold/alphafold/common\n",
        "      %shell mkdir -p /opt/conda/lib/python3.7/site-packages/alphafold/common/\n",
        "      %shell cp -f /content/stereo_chemical_props.txt /opt/conda/lib/python3.7/site-packages/alphafold/common/\n",
        "\n",
        "      %shell mkdir --parents \"{PARAMS_DIR}\"\n",
        "      %shell wget -O \"{PARAMS_PATH}\" \"{SOURCE_URL}\"\n",
        "      pbar.update(27)\n",
        "\n",
        "      %shell tar --extract --verbose --file=\"{PARAMS_PATH}\" \\\n",
        "        --directory=\"{PARAMS_DIR}\" --preserve-permissions\n",
        "      %shell rm \"{PARAMS_PATH}\"\n",
        "      pbar.update(55)\n",
        "except subprocess.CalledProcessError:\n",
        "  print(captured)\n",
        "  raise\n",
        "\n",
        "import jax\n",
        "\n",
        "# Make sure everything we need is on the path.\n",
        "import sys\n",
        "sys.path.append('/opt/conda/lib/python3.7/site-packages')\n",
        "sys.path.append('/content/alphafold')\n",
        "\n",
        "# Make sure all necessary environment variables are set.\n",
        "import os\n",
        "os.environ['TF_FORCE_UNIFIED_MEMORY'] = '1'\n",
        "os.environ['XLA_PYTHON_CLIENT_MEM_FRACTION'] = '2.0'"
      ],
      "metadata": {
        "cellView": "form",
        "id": "u_g0TL3EwZtp"
      },
      "id": "u_g0TL3EwZtp",
      "execution_count": null,
      "outputs": []
    },
    {
      "cell_type": "code",
      "execution_count": null,
      "id": "1d51fffe-1a09-47bd-8e0e-05e1ba0156ae",
      "metadata": {
        "id": "1d51fffe-1a09-47bd-8e0e-05e1ba0156ae",
        "cellView": "form"
      },
      "outputs": [],
      "source": [
        "#@title Import Modules\n",
        "\n",
        "#@markdown Please execute this cell by pressing the *Play* button on \n",
        "#@markdown the left.\n",
        "\n",
        "import py3Dmol\n",
        "import ipywidgets as ipy\n",
        "from ipywidgets import Output\n",
        "from IPython import display\n",
        "import pickle\n",
        "from matplotlib import pyplot as plt\n",
        "import numpy as np\n",
        "#from alphafold.relax import utils"
      ]
    },
    {
      "cell_type": "code",
      "execution_count": null,
      "id": "d990d2ff-bcf1-432a-8199-9a85954a966a",
      "metadata": {
        "id": "d990d2ff-bcf1-432a-8199-9a85954a966a"
      },
      "outputs": [],
      "source": [
        "#@title Standardtext für Titel { display-mode: \"form\" }\n",
        "pdb_file = \"\" #@param {type:\"string\"}\n",
        "pkl_file = \"\" #@param {type:\"string\"}\n",
        "multimer_model = False #@param {type:\"boolean\"}\n",
        "\n",
        "if pdb_file==\"\":\n",
        "  print(\"Please select a .pdb file!\")\n",
        "else:\n",
        "  with open(pdb_file) as ifile:\n",
        "      system = \"\".join([x for x in ifile])\n",
        "      print(pdb_file, \" sucessfully loaded!\")\n",
        "if  pkl_file==\"\":\n",
        "  print(\"Please select a .pkl file!\")\n",
        "with open(pkl_file, 'rb') as f:\n",
        "    data = pickle.load(f)\n",
        "    print(pkl_file, \" sucessfully loadede!\")\n",
        "\n",
        "\n",
        "show_sidechains = True\n",
        "def plot_plddt_legend():\n",
        "  \"\"\"Plots the legend for pLDDT.\"\"\"\n",
        "  thresh = ['Very low (pLDDT < 50)',\n",
        "            'Low (70 > pLDDT > 50)',\n",
        "            'Confident (90 > pLDDT > 70)',\n",
        "            'Very high (pLDDT > 90)']\n",
        "\n",
        "  colors = [x[2] for x in PLDDT_BANDS]\n",
        "\n",
        "  plt.figure(figsize=(2, 2))\n",
        "  for c in colors:\n",
        "    plt.bar(0, 0, color=c)\n",
        "  plt.legend(thresh, frameon=False, loc='center', fontsize=20)\n",
        "  plt.xticks([])\n",
        "  plt.yticks([])\n",
        "  ax = plt.gca()\n",
        "  ax.spines['right'].set_visible(False)\n",
        "  ax.spines['top'].set_visible(False)\n",
        "  ax.spines['left'].set_visible(False)\n",
        "  ax.spines['bottom'].set_visible(False)\n",
        "  plt.title('Model Confidence', fontsize=20, pad=20)\n",
        "  return plt"
      ]
    },
    {
      "cell_type": "code",
      "source": [
        "#@title Experimental Code to get coloring working - <font color='red'>Skip it for now if you just want to plot</font> !Currently not working!\n",
        "# \n",
        "#banded_b_factors = []\n",
        "#final_atom_mask=data['structure_module']['final_atom_mask']\n",
        "#for plddt in data['plddt']:\n",
        " # for idx, (min_val, max_val, _) in enumerate(PLDDT_BANDS):\n",
        "  #  if plddt >= min_val and plddt <= max_val:\n",
        "   #   banded_b_factors.append(idx)\n",
        "    #  break\n",
        "#banded_b_factors = np.array(banded_b_factors)[:, None] * final_atom_mask\n",
        "#to_visualize_pdb = utils.overwrite_b_factors(system, banded_b_factors)\n",
        "# ! Currently not working!"
      ],
      "metadata": {
        "id": "VE89PNrwuFV_",
        "cellView": "form"
      },
      "id": "VE89PNrwuFV_",
      "execution_count": null,
      "outputs": []
    },
    {
      "cell_type": "code",
      "execution_count": null,
      "id": "803b00b2-a583-4964-a3b0-c3b8250b53be",
      "metadata": {
        "tags": [],
        "id": "803b00b2-a583-4964-a3b0-c3b8250b53be",
        "cellView": "form"
      },
      "outputs": [],
      "source": [
        "#@title Plot the model of the your provided pdb file\n",
        "\n",
        "#Define PLDDT_BANDS and their color\n",
        "PLDDT_BANDS = [(0, 50, '#FF7D45'),\n",
        "               (50, 70, '#FFDB13'),\n",
        "               (70, 90, '#65CBF3'),\n",
        "               (90, 100, '#0053D6')]\n",
        "\n",
        "view = py3Dmol.view(width=400, height=300)\n",
        "view.addModelsAsFrames(system)\n",
        "view.setStyle({'model': -1}, {\"cartoon\": {'color': 'spectrum'}})\n",
        "view.zoomTo()\n",
        "view.show()"
      ]
    },
    {
      "cell_type": "code",
      "execution_count": null,
      "id": "a922fce3-97fb-4655-b7dd-aaee6464e5dc",
      "metadata": {
        "id": "a922fce3-97fb-4655-b7dd-aaee6464e5dc",
        "cellView": "form"
      },
      "outputs": [],
      "source": [
        "#@title Draw a multimer model\n",
        "#to_visualize_pdb = system\n",
        "# Show the structure coloured by chain if the multimer model has been used.\n",
        "\n",
        "if multimer_model==True:\n",
        "  multichain_view = py3Dmol.view(width=800, height=600)\n",
        "  multichain_view.addModelsAsFrames(to_visualize_pdb)\n",
        "  multichain_style = {'cartoon': {'colorscheme': 'chain'}}\n",
        "  multichain_view.setStyle({'model': -1}, multichain_style)\n",
        "  multichain_view.zoomTo()\n",
        "  multichain_view.show()\n"
      ]
    },
    {
      "cell_type": "code",
      "execution_count": null,
      "id": "211a9a6a-71ff-41f7-bee9-5754c41231c9",
      "metadata": {
        "id": "211a9a6a-71ff-41f7-bee9-5754c41231c9",
        "cellView": "form"
      },
      "outputs": [],
      "source": [
        "#@title Draw the model of your pkl file\n",
        "# Color the structure by per-residue pLDDT\n",
        "color_map = {i: bands[2] for i, bands in enumerate(PLDDT_BANDS)}\n",
        "view = py3Dmol.view(width=800, height=600)\n",
        "view.addModelsAsFrames(to_visualize_pdb)\n",
        "style = {'cartoon': {'colorscheme': {'prop': 'b', 'map': color_map}}}\n",
        "if show_sidechains:\n",
        "  style['stick'] = {}\n",
        "view.setStyle({'model': -1}, style)\n",
        "view.zoomTo()\n",
        "\n",
        "grid = ipy.GridspecLayout(1, 2)\n",
        "out = Output()\n",
        "with out:\n",
        "  view.show()\n",
        "grid[0, 0] = out\n",
        "\n",
        "out = Output()\n",
        "with out:\n",
        "  plot_plddt_legend().show()\n",
        "grid[0, 1] = out\n",
        "\n",
        "display.display(grid)"
      ]
    },
    {
      "cell_type": "code",
      "execution_count": null,
      "id": "0e91ad7e-8e6f-4b79-a653-e4b4ce8c0741",
      "metadata": {
        "id": "0e91ad7e-8e6f-4b79-a653-e4b4ce8c0741",
        "cellView": "form"
      },
      "outputs": [],
      "source": [
        "#@title Visualize the models prediction performance\n",
        "#data.keys()\n",
        "plddt = data[\"plddt\"]\n",
        "plt.figure(figsize=[8, 6])\n",
        "plt.subplot(1, 2, 1)\n",
        "plt.plot(plddt)\n",
        "plt.title('Predicted LDDT')\n",
        "plt.xlabel('Residue')\n",
        "plt.ylabel('pLDDT')\n",
        "\n",
        "\n",
        "pae_output = (data['predicted_aligned_error'],\n",
        "              data['max_predicted_aligned_error'])\n",
        "\n",
        "plt.subplot(1, 2, 2)\n",
        "pae, max_pae = pae_output\n",
        "plt.imshow(pae, vmin=0., vmax=max_pae, cmap='Greens_r')\n",
        "plt.colorbar(fraction=0.046, pad=0.04)\n",
        "\n",
        "plt.title('Predicted Aligned Error')\n",
        "plt.xlabel('Scored residue')\n",
        "plt.ylabel('Aligned residue')"
      ]
    },
    {
      "cell_type": "code",
      "execution_count": null,
      "id": "a3ab164f-4687-4075-acdc-cb23e3652feb",
      "metadata": {
        "id": "a3ab164f-4687-4075-acdc-cb23e3652feb"
      },
      "outputs": [],
      "source": [
        ""
      ]
    }
  ],
  "metadata": {
    "kernelspec": {
      "display_name": "Python 3 (ipykernel)",
      "language": "python",
      "name": "python3"
    },
    "language_info": {
      "codemirror_mode": {
        "name": "ipython",
        "version": 3
      },
      "file_extension": ".py",
      "mimetype": "text/x-python",
      "name": "python",
      "nbconvert_exporter": "python",
      "pygments_lexer": "ipython3",
      "version": "3.9.7"
    },
    "colab": {
      "name": "af2_vis.ipynb",
      "provenance": [],
      "include_colab_link": true
    }
  },
  "nbformat": 4,
  "nbformat_minor": 5
}