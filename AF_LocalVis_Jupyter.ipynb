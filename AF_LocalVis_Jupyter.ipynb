{
  "cells": [
    {
      "cell_type": "markdown",
      "metadata": {
        "id": "view-in-github",
        "colab_type": "text"
      },
      "source": [
        "<a href=\"https://colab.research.google.com/github/WielandF/Alphafold-localvis-jupyter/blob/main/af2_vis.ipynb\" target=\"_parent\"><img src=\"https://colab.research.google.com/assets/colab-badge.svg\" alt=\"Open In Colab\"/></a>"
      ]
    },
    {
      "cell_type": "code",
      "execution_count": null,
      "id": "1d51fffe-1a09-47bd-8e0e-05e1ba0156ae",
      "metadata": {
        "id": "1d51fffe-1a09-47bd-8e0e-05e1ba0156ae"
      },
      "outputs": [],
      "source": [
        "import py3Dmol\n",
        "import ipywidgets as ipy\n",
        "from ipywidgets import Output\n",
        "from IPython import display\n",
        "import pickle\n",
        "from matplotlib import pyplot as plt\n",
        "import numpy as np\n",
        "from alphafold.relax import utils"
      ]
    },
    {
      "cell_type": "code",
      "execution_count": null,
      "id": "d990d2ff-bcf1-432a-8199-9a85954a966a",
      "metadata": {
        "id": "d990d2ff-bcf1-432a-8199-9a85954a966a"
      },
      "outputs": [],
      "source": [
        "with open(\"selected_prediction.pdb\") as ifile:\n",
        "    system = \"\".join([x for x in ifile])\n",
        "\n",
        "with open('result_model_1.pkl', 'rb') as f:\n",
        "    data = pickle.load(f)"
      ]
    },
    {
      "cell_type": "code",
      "source": [
        "PLDDT_BANDS = [(0, 50, '#FF7D45'),\n",
        "               (50, 70, '#FFDB13'),\n",
        "               (70, 90, '#65CBF3'),\n",
        "               (90, 100, '#0053D6')]"
      ],
      "metadata": {
        "id": "N8YiQbVIuGMK"
      },
      "id": "N8YiQbVIuGMK",
      "execution_count": null,
      "outputs": []
    },
    {
      "cell_type": "code",
      "source": [
        "#Experimental Code to get coloring working - Skip it for now if you just want to plot\n",
        "# ! Currently not working!\n",
        "banded_b_factors = []\n",
        "final_atom_mask=data['structure_module']['final_atom_mask']\n",
        "for plddt in data['plddt']:\n",
        "  for idx, (min_val, max_val, _) in enumerate(PLDDT_BANDS):\n",
        "    if plddt >= min_val and plddt <= max_val:\n",
        "      banded_b_factors.append(idx)\n",
        "      break\n",
        "banded_b_factors = np.array(banded_b_factors)[:, None] * final_atom_mask\n",
        "to_visualize_pdb = utils.overwrite_b_factors(system, banded_b_factors)\n",
        "# ! Currently not working!"
      ],
      "metadata": {
        "id": "VE89PNrwuFV_"
      },
      "id": "VE89PNrwuFV_",
      "execution_count": null,
      "outputs": []
    },
    {
      "cell_type": "code",
      "execution_count": null,
      "id": "803b00b2-a583-4964-a3b0-c3b8250b53be",
      "metadata": {
        "tags": [],
        "id": "803b00b2-a583-4964-a3b0-c3b8250b53be"
      },
      "outputs": [],
      "source": [
        "view = py3Dmol.view(width=400, height=300)\n",
        "view.addModelsAsFrames(system)\n",
        "view.setStyle({'model': -1}, {\"cartoon\": {'color': 'spectrum'}})\n",
        "view.zoomTo()\n",
        "view.show()"
      ]
    },
    {
      "cell_type": "code",
      "execution_count": null,
      "id": "def9549c-6552-48cd-9352-8907ae8a37d1",
      "metadata": {
        "tags": [],
        "id": "def9549c-6552-48cd-9352-8907ae8a37d1"
      },
      "outputs": [],
      "source": [
        "show_sidechains = True\n",
        "def plot_plddt_legend():\n",
        "  \"\"\"Plots the legend for pLDDT.\"\"\"\n",
        "  thresh = ['Very low (pLDDT < 50)',\n",
        "            'Low (70 > pLDDT > 50)',\n",
        "            'Confident (90 > pLDDT > 70)',\n",
        "            'Very high (pLDDT > 90)']\n",
        "\n",
        "  colors = [x[2] for x in PLDDT_BANDS]\n",
        "\n",
        "  plt.figure(figsize=(2, 2))\n",
        "  for c in colors:\n",
        "    plt.bar(0, 0, color=c)\n",
        "  plt.legend(thresh, frameon=False, loc='center', fontsize=20)\n",
        "  plt.xticks([])\n",
        "  plt.yticks([])\n",
        "  ax = plt.gca()\n",
        "  ax.spines['right'].set_visible(False)\n",
        "  ax.spines['top'].set_visible(False)\n",
        "  ax.spines['left'].set_visible(False)\n",
        "  ax.spines['bottom'].set_visible(False)\n",
        "  plt.title('Model Confidence', fontsize=20, pad=20)\n",
        "  return plt"
      ]
    },
    {
      "cell_type": "code",
      "execution_count": null,
      "id": "ff1579af-f3ee-4362-99b7-77b34cfacbbc",
      "metadata": {
        "id": "ff1579af-f3ee-4362-99b7-77b34cfacbbc"
      },
      "outputs": [],
      "source": [
        "#to_visualize_pdb = system"
      ]
    },
    {
      "cell_type": "code",
      "execution_count": null,
      "id": "a922fce3-97fb-4655-b7dd-aaee6464e5dc",
      "metadata": {
        "id": "a922fce3-97fb-4655-b7dd-aaee6464e5dc"
      },
      "outputs": [],
      "source": [
        "# Show the structure coloured by chain if the multimer model has been used.\n",
        "\n",
        "if True:\n",
        "  multichain_view = py3Dmol.view(width=800, height=600)\n",
        "  multichain_view.addModelsAsFrames(to_visualize_pdb)\n",
        "  multichain_style = {'cartoon': {'colorscheme': 'chain'}}\n",
        "  multichain_view.setStyle({'model': -1}, multichain_style)\n",
        "  multichain_view.zoomTo()\n",
        "  multichain_view.show()\n"
      ]
    },
    {
      "cell_type": "code",
      "execution_count": null,
      "id": "211a9a6a-71ff-41f7-bee9-5754c41231c9",
      "metadata": {
        "id": "211a9a6a-71ff-41f7-bee9-5754c41231c9"
      },
      "outputs": [],
      "source": [
        "# Color the structure by per-residue pLDDT\n",
        "color_map = {i: bands[2] for i, bands in enumerate(PLDDT_BANDS)}\n",
        "view = py3Dmol.view(width=800, height=600)\n",
        "view.addModelsAsFrames(to_visualize_pdb)\n",
        "style = {'cartoon': {'colorscheme': {'prop': 'b', 'map': color_map}}}\n",
        "if show_sidechains:\n",
        "  style['stick'] = {}\n",
        "view.setStyle({'model': -1}, style)\n",
        "view.zoomTo()\n",
        "\n",
        "grid = ipy.GridspecLayout(1, 2)\n",
        "out = Output()\n",
        "with out:\n",
        "  view.show()\n",
        "grid[0, 0] = out\n",
        "\n",
        "out = Output()\n",
        "with out:\n",
        "  plot_plddt_legend().show()\n",
        "grid[0, 1] = out\n",
        "\n",
        "display.display(grid)"
      ]
    },
    {
      "cell_type": "code",
      "execution_count": null,
      "id": "8b6d183f-df48-45c0-ae84-b1b510be0b14",
      "metadata": {
        "id": "8b6d183f-df48-45c0-ae84-b1b510be0b14"
      },
      "outputs": [],
      "source": [
        "data.keys()"
      ]
    },
    {
      "cell_type": "code",
      "execution_count": null,
      "id": "e6c1d23e-f3e6-47a5-ab7f-6d1b75026a69",
      "metadata": {
        "id": "e6c1d23e-f3e6-47a5-ab7f-6d1b75026a69"
      },
      "outputs": [],
      "source": [
        "plddt = data[\"plddt\"]"
      ]
    },
    {
      "cell_type": "code",
      "execution_count": null,
      "id": "0e91ad7e-8e6f-4b79-a653-e4b4ce8c0741",
      "metadata": {
        "id": "0e91ad7e-8e6f-4b79-a653-e4b4ce8c0741"
      },
      "outputs": [],
      "source": [
        "plt.figure(figsize=[8, 6])\n",
        "plt.subplot(1, 2, 1)\n",
        "plt.plot(plddt)\n",
        "plt.title('Predicted LDDT')\n",
        "plt.xlabel('Residue')\n",
        "plt.ylabel('pLDDT')\n",
        "\n",
        "\n",
        "pae_output = (data['predicted_aligned_error'],\n",
        "              data['max_predicted_aligned_error'])\n",
        "\n",
        "plt.subplot(1, 2, 2)\n",
        "pae, max_pae = pae_output\n",
        "plt.imshow(pae, vmin=0., vmax=max_pae, cmap='Greens_r')\n",
        "plt.colorbar(fraction=0.046, pad=0.04)\n",
        "\n",
        "plt.title('Predicted Aligned Error')\n",
        "plt.xlabel('Scored residue')\n",
        "plt.ylabel('Aligned residue')"
      ]
    },
    {
      "cell_type": "code",
      "execution_count": null,
      "id": "d3b36032-7bed-42c9-bd3d-078ee0ef0a0a",
      "metadata": {
        "id": "d3b36032-7bed-42c9-bd3d-078ee0ef0a0a"
      },
      "outputs": [],
      "source": [
        ""
      ]
    },
    {
      "cell_type": "code",
      "execution_count": null,
      "id": "f7ffc9f9-ac81-4db7-9fbf-2c38ef984ada",
      "metadata": {
        "id": "f7ffc9f9-ac81-4db7-9fbf-2c38ef984ada"
      },
      "outputs": [],
      "source": [
        ""
      ]
    },
    {
      "cell_type": "code",
      "execution_count": null,
      "id": "a3ab164f-4687-4075-acdc-cb23e3652feb",
      "metadata": {
        "id": "a3ab164f-4687-4075-acdc-cb23e3652feb"
      },
      "outputs": [],
      "source": [
        ""
      ]
    }
  ],
  "metadata": {
    "kernelspec": {
      "display_name": "Python 3 (ipykernel)",
      "language": "python",
      "name": "python3"
    },
    "language_info": {
      "codemirror_mode": {
        "name": "ipython",
        "version": 3
      },
      "file_extension": ".py",
      "mimetype": "text/x-python",
      "name": "python",
      "nbconvert_exporter": "python",
      "pygments_lexer": "ipython3",
      "version": "3.9.7"
    },
    "colab": {
      "name": "af2_vis.ipynb",
      "provenance": [],
      "include_colab_link": true
    }
  },
  "nbformat": 4,
  "nbformat_minor": 5
}
